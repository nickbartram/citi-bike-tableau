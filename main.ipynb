{
 "cells": [
  {
   "cell_type": "markdown",
   "metadata": {},
   "source": [
    "Downloaded 3 files frmo citibike site (August, September, October). Want to create a union here to basically stack them on top of each other vertically, as opposed to a join that would horizontally attach them."
   ]
  },
  {
   "cell_type": "code",
   "execution_count": 1,
   "metadata": {},
   "outputs": [],
   "source": [
    "# Import dependencies\n",
    "import pandas as pd\n",
    "import geopandas as gpd\n",
    "from sqlalchemy import create_engine"
   ]
  },
  {
   "cell_type": "code",
   "execution_count": 2,
   "metadata": {},
   "outputs": [],
   "source": [
    "# Read the CSV files\n",
    "\n",
    "# October file\n",
    "oct_csv = pd.read_csv(\"Resources/JC-202410-citibike-tripdata.csv\")\n",
    "\n",
    "# September file\n",
    "sept_csv = pd.read_csv(\"Resources/JC-202409-citibike-tripdata.csv\")\n",
    "\n",
    "# August file\n",
    "aug_csv = pd.read_csv(\"Resources/JC-202408-citibike-tripdata.csv\")"
   ]
  },
  {
   "cell_type": "code",
   "execution_count": 6,
   "metadata": {},
   "outputs": [
    {
     "data": {
      "text/html": [
       "<div>\n",
       "<style scoped>\n",
       "    .dataframe tbody tr th:only-of-type {\n",
       "        vertical-align: middle;\n",
       "    }\n",
       "\n",
       "    .dataframe tbody tr th {\n",
       "        vertical-align: top;\n",
       "    }\n",
       "\n",
       "    .dataframe thead th {\n",
       "        text-align: right;\n",
       "    }\n",
       "</style>\n",
       "<table border=\"1\" class=\"dataframe\">\n",
       "  <thead>\n",
       "    <tr style=\"text-align: right;\">\n",
       "      <th></th>\n",
       "      <th>ride_id</th>\n",
       "      <th>rideable_type</th>\n",
       "      <th>started_at</th>\n",
       "      <th>ended_at</th>\n",
       "      <th>start_station_name</th>\n",
       "      <th>start_station_id</th>\n",
       "      <th>end_station_name</th>\n",
       "      <th>end_station_id</th>\n",
       "      <th>start_lat</th>\n",
       "      <th>start_lng</th>\n",
       "      <th>end_lat</th>\n",
       "      <th>end_lng</th>\n",
       "      <th>member_casual</th>\n",
       "    </tr>\n",
       "  </thead>\n",
       "  <tbody>\n",
       "    <tr>\n",
       "      <th>0</th>\n",
       "      <td>17AE31FCAE74D287</td>\n",
       "      <td>electric_bike</td>\n",
       "      <td>2024-08-07 13:22:55.656</td>\n",
       "      <td>2024-08-07 13:25:09.654</td>\n",
       "      <td>7 St &amp; Monroe St</td>\n",
       "      <td>HB304</td>\n",
       "      <td>4 St &amp; Grand St</td>\n",
       "      <td>HB301</td>\n",
       "      <td>40.746413</td>\n",
       "      <td>-74.037977</td>\n",
       "      <td>40.742258</td>\n",
       "      <td>-74.035111</td>\n",
       "      <td>member</td>\n",
       "    </tr>\n",
       "    <tr>\n",
       "      <th>1</th>\n",
       "      <td>FD9859BDBE0CDF70</td>\n",
       "      <td>electric_bike</td>\n",
       "      <td>2024-08-13 13:15:08.627</td>\n",
       "      <td>2024-08-13 13:17:44.971</td>\n",
       "      <td>7 St &amp; Monroe St</td>\n",
       "      <td>HB304</td>\n",
       "      <td>4 St &amp; Grand St</td>\n",
       "      <td>HB301</td>\n",
       "      <td>40.746413</td>\n",
       "      <td>-74.037977</td>\n",
       "      <td>40.742258</td>\n",
       "      <td>-74.035111</td>\n",
       "      <td>member</td>\n",
       "    </tr>\n",
       "    <tr>\n",
       "      <th>2</th>\n",
       "      <td>AAC5ECD095AE5572</td>\n",
       "      <td>electric_bike</td>\n",
       "      <td>2024-08-12 20:07:26.975</td>\n",
       "      <td>2024-08-12 20:09:38.180</td>\n",
       "      <td>7 St &amp; Monroe St</td>\n",
       "      <td>HB304</td>\n",
       "      <td>4 St &amp; Grand St</td>\n",
       "      <td>HB301</td>\n",
       "      <td>40.746413</td>\n",
       "      <td>-74.037977</td>\n",
       "      <td>40.742258</td>\n",
       "      <td>-74.035111</td>\n",
       "      <td>member</td>\n",
       "    </tr>\n",
       "    <tr>\n",
       "      <th>3</th>\n",
       "      <td>857C4DCB2F29655B</td>\n",
       "      <td>electric_bike</td>\n",
       "      <td>2024-08-09 13:43:18.882</td>\n",
       "      <td>2024-08-09 13:45:38.226</td>\n",
       "      <td>7 St &amp; Monroe St</td>\n",
       "      <td>HB304</td>\n",
       "      <td>4 St &amp; Grand St</td>\n",
       "      <td>HB301</td>\n",
       "      <td>40.746413</td>\n",
       "      <td>-74.037977</td>\n",
       "      <td>40.742258</td>\n",
       "      <td>-74.035111</td>\n",
       "      <td>member</td>\n",
       "    </tr>\n",
       "    <tr>\n",
       "      <th>4</th>\n",
       "      <td>4439657C244E7009</td>\n",
       "      <td>classic_bike</td>\n",
       "      <td>2024-08-01 10:29:40.174</td>\n",
       "      <td>2024-08-01 10:32:56.874</td>\n",
       "      <td>Clinton St &amp; Newark St</td>\n",
       "      <td>HB409</td>\n",
       "      <td>4 St &amp; Grand St</td>\n",
       "      <td>HB301</td>\n",
       "      <td>40.737430</td>\n",
       "      <td>-74.035710</td>\n",
       "      <td>40.742258</td>\n",
       "      <td>-74.035111</td>\n",
       "      <td>member</td>\n",
       "    </tr>\n",
       "  </tbody>\n",
       "</table>\n",
       "</div>"
      ],
      "text/plain": [
       "            ride_id  rideable_type               started_at  \\\n",
       "0  17AE31FCAE74D287  electric_bike  2024-08-07 13:22:55.656   \n",
       "1  FD9859BDBE0CDF70  electric_bike  2024-08-13 13:15:08.627   \n",
       "2  AAC5ECD095AE5572  electric_bike  2024-08-12 20:07:26.975   \n",
       "3  857C4DCB2F29655B  electric_bike  2024-08-09 13:43:18.882   \n",
       "4  4439657C244E7009   classic_bike  2024-08-01 10:29:40.174   \n",
       "\n",
       "                  ended_at      start_station_name start_station_id  \\\n",
       "0  2024-08-07 13:25:09.654        7 St & Monroe St            HB304   \n",
       "1  2024-08-13 13:17:44.971        7 St & Monroe St            HB304   \n",
       "2  2024-08-12 20:09:38.180        7 St & Monroe St            HB304   \n",
       "3  2024-08-09 13:45:38.226        7 St & Monroe St            HB304   \n",
       "4  2024-08-01 10:32:56.874  Clinton St & Newark St            HB409   \n",
       "\n",
       "  end_station_name end_station_id  start_lat  start_lng    end_lat    end_lng  \\\n",
       "0  4 St & Grand St          HB301  40.746413 -74.037977  40.742258 -74.035111   \n",
       "1  4 St & Grand St          HB301  40.746413 -74.037977  40.742258 -74.035111   \n",
       "2  4 St & Grand St          HB301  40.746413 -74.037977  40.742258 -74.035111   \n",
       "3  4 St & Grand St          HB301  40.746413 -74.037977  40.742258 -74.035111   \n",
       "4  4 St & Grand St          HB301  40.737430 -74.035710  40.742258 -74.035111   \n",
       "\n",
       "  member_casual  \n",
       "0        member  \n",
       "1        member  \n",
       "2        member  \n",
       "3        member  \n",
       "4        member  "
      ]
     },
     "execution_count": 6,
     "metadata": {},
     "output_type": "execute_result"
    }
   ],
   "source": [
    "# Concatenate the dfs vertically\n",
    "combined_df = pd.concat([aug_csv, sept_csv, oct_csv], ignore_index=True)\n",
    "\n",
    "# Display new df\n",
    "combined_df.head()"
   ]
  },
  {
   "cell_type": "markdown",
   "metadata": {},
   "source": [
    "Now that we've combined them, we need to save them to CSV from Tableau."
   ]
  },
  {
   "cell_type": "code",
   "execution_count": 4,
   "metadata": {},
   "outputs": [],
   "source": [
    "# Save to CSV\n",
    "combined_df.to_csv(\"Resources/combined_citibike_data.csv\", index=False)"
   ]
  },
  {
   "cell_type": "markdown",
   "metadata": {},
   "source": [
    "The zipcode aspect of the assignment puzzled me quite a bit. None of these files has a zipcode field, however they do have the latitude and longitude of stations. The zipcode of those coordinates could be found. I couldn't figure out how to do it using Tableau alone. "
   ]
  },
  {
   "cell_type": "markdown",
   "metadata": {},
   "source": [
    "Decided to download GEOJSON files containing the boundaries for the zip codes. Now that I'm thinking about it, I know that Tableau has an internal database for zipcode boundaries. I should be able to figure that out and not import geojson files to do it on top."
   ]
  },
  {
   "cell_type": "markdown",
   "metadata": {},
   "source": [
    "With hours of research I was not able to get any closer to using Tableau's built in databases to find zipode information about the coordinates. I will ask my instructor in the next office hours about possible issues here. Perhaps it's not possible. \n",
    "\n",
    "Now I will try to join some external geojson boundary data to the original dataset. I tried to join the data in Tableau, it seemed to work. Had some errors with the NJ data but it eventually worked. Once I joined the NY data the visuals all disappeared. I want to try joining in python to see if that could help the visuals work. If not I might have to give up on zip code data for now."
   ]
  },
  {
   "cell_type": "code",
   "execution_count": 11,
   "metadata": {},
   "outputs": [],
   "source": [
    "# Convert CSV lat/lng into a GeoDataFrame\n",
    "gdf_points = gpd.GeoDataFrame(combined_df, \n",
    "                               geometry=gpd.points_from_xy(combined_df['end_lng'], combined_df['end_lat']),\n",
    "                               crs=\"EPSG:4326\")\n",
    "\n",
    "# Load the geoJSON file for Zip Code boundaries\n",
    "gdf_boundaries = gpd.read_file('Resources/nj_new_jersey_zip_codes_geo.json')\n",
    "\n",
    "# Make sure both GeoDataFrames are using the same CRS\n",
    "gdf_boundaries = gdf_boundaries.to_crs(\"EPSG:4326\")"
   ]
  },
  {
   "cell_type": "code",
   "execution_count": 14,
   "metadata": {},
   "outputs": [
    {
     "name": "stderr",
     "output_type": "stream",
     "text": [
      "c:\\Users\\nbart.DESKTOP-3OF7M8N\\anaconda3\\envs\\dev\\lib\\site-packages\\IPython\\core\\interactiveshell.py:3517: FutureWarning: The `op` parameter is deprecated and will be removed in a future release. Please use the `predicate` parameter instead.\n",
      "  if await self.run_code(code, result, async_=asy):\n"
     ]
    }
   ],
   "source": [
    "# Perform a spatial join to link lat/lng points to zip code boundaries\n",
    "gdf_joined = gpd.sjoin(gdf_points, gdf_boundaries, how=\"left\", op='within')\n"
   ]
  },
  {
   "cell_type": "code",
   "execution_count": 15,
   "metadata": {},
   "outputs": [
    {
     "name": "stdout",
     "output_type": "stream",
     "text": [
      "          end_lng    end_lat                    geometry\n",
      "0      -74.035111  40.742258  POINT (-74.03511 40.74226)\n",
      "1      -74.035111  40.742258  POINT (-74.03511 40.74226)\n",
      "2      -74.035111  40.742258  POINT (-74.03511 40.74226)\n",
      "3      -74.035111  40.742258  POINT (-74.03511 40.74226)\n",
      "4      -74.035111  40.742258  POINT (-74.03511 40.74226)\n",
      "...           ...        ...                         ...\n",
      "340311 -74.028865  40.737215  POINT (-74.02887 40.73722)\n",
      "340312 -74.028865  40.737215  POINT (-74.02887 40.73722)\n",
      "340313 -74.028865  40.737215  POINT (-74.02887 40.73722)\n",
      "340314 -74.028865  40.737215  POINT (-74.02887 40.73722)\n",
      "340315 -74.028865  40.737215  POINT (-74.02887 40.73722)\n",
      "\n",
      "[340316 rows x 3 columns]\n"
     ]
    }
   ],
   "source": [
    "\n",
    "# The result should have the zip code info now attached to each point\n",
    "print(gdf_joined[['end_lng', 'end_lat', 'geometry']])  # Replace 'Zip_Code' with the actual field name from the geoJSON\n"
   ]
  },
  {
   "cell_type": "code",
   "execution_count": 17,
   "metadata": {},
   "outputs": [],
   "source": [
    "# Export as CSV\n",
    "gdf_joined.to_csv('Resources/combined_citibike_gdf.csv', index=False)\n"
   ]
  }
 ],
 "metadata": {
  "kernelspec": {
   "display_name": "dev",
   "language": "python",
   "name": "python3"
  },
  "language_info": {
   "codemirror_mode": {
    "name": "ipython",
    "version": 3
   },
   "file_extension": ".py",
   "mimetype": "text/x-python",
   "name": "python",
   "nbconvert_exporter": "python",
   "pygments_lexer": "ipython3",
   "version": "3.10.14"
  }
 },
 "nbformat": 4,
 "nbformat_minor": 2
}
